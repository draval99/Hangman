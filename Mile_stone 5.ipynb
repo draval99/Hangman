{
 "cells": [
  {
   "cell_type": "code",
   "execution_count": 1,
   "metadata": {},
   "outputs": [
    {
     "name": "stdout",
     "output_type": "stream",
     "text": [
      "Invalid letter. Please, enter a single alphabetical character.\n",
      "Good guess! p is in the word.\n",
      "_ _ _ _ _ _ _ _ p _\n",
      "You already tried that letter!\n",
      "Good guess! j is in the word.\n",
      "j _ _ _ _ _ _ _ p _\n",
      "You already tried that letter!\n",
      "Good guess! a is in the word.\n",
      "j a _ a _ _ _ _ p _\n",
      "You already tried that letter!\n",
      "Good guess! v is in the word.\n",
      "j a v a _ _ _ _ p _\n",
      "You already tried that letter!\n",
      "Good guess! s is in the word.\n",
      "j a v a s _ _ _ p _\n",
      "You already tried that letter!\n",
      "Good guess! c is in the word.\n",
      "j a v a s c _ _ p _\n",
      "Good guess! r is in the word.\n",
      "j a v a s c r _ p _\n",
      "Good guess! i is in the word.\n",
      "j a v a s c r i p _\n",
      "Good guess! t is in the word.\n",
      "j a v a s c r i p t\n",
      "Congratulations! You won the game!\n"
     ]
    }
   ],
   "source": [
    "import random\n",
    "\n",
    "class Hangman:\n",
    "\n",
    "    def __init__(self, word_list, num_lives=5):\n",
    "        self.word_list = word_list\n",
    "        self.num_lives = num_lives\n",
    "        self.word = random.choice(word_list)\n",
    "        self.word_guessed = ['_' for _ in self.word]\n",
    "        self.num_letters = len(set(self.word))\n",
    "        self.list_of_guesses = []\n",
    "\n",
    "    def check_guess(self, guess):\n",
    "        guess = guess.lower()\n",
    "\n",
    "        if guess in self.word:\n",
    "            print(f'Good guess! {guess} is in the word.')\n",
    "            for index, letter in enumerate(self.word):\n",
    "                if letter == guess:\n",
    "                    self.word_guessed[index] = guess\n",
    "            self.num_letters -= 1\n",
    "        else:\n",
    "            print(f'Sorry, {guess} is not in the word.')\n",
    "            self.num_lives -= 1\n",
    "            print(f'You have {self.num_lives} lives left.')\n",
    "\n",
    "    def ask_for_input(self):\n",
    "        guess = input('Guess a letter: ')\n",
    "\n",
    "        if len(guess) != 1 or not guess.isalpha():\n",
    "            print('Invalid letter. Please, enter a single alphabetical character.')\n",
    "        elif guess in self.list_of_guesses:\n",
    "            print('You already tried that letter!')\n",
    "        else:\n",
    "            self.check_guess(guess)\n",
    "            self.list_of_guesses.append(guess)\n",
    "            print(' '.join(self.word_guessed))\n",
    "\n",
    "def play_game(word_list):\n",
    "    num_lives = 5\n",
    "    game = Hangman(word_list, num_lives)\n",
    "\n",
    "    while True:\n",
    "        if game.num_lives == 0:\n",
    "            print('You lost!')\n",
    "            break\n",
    "        elif game.num_letters == 0:\n",
    "            print('Congratulations! You won the game!')\n",
    "            break\n",
    "        else:\n",
    "            game.ask_for_input()\n",
    "\n",
    "word_list = [\"python\", \"java\", \"swift\", \"javascript\"]\n",
    "play_game(word_list)\n",
    "\n"
   ]
  },
  {
   "cell_type": "code",
   "execution_count": null,
   "metadata": {},
   "outputs": [],
   "source": []
  }
 ],
 "metadata": {
  "kernelspec": {
   "display_name": "Python 3",
   "language": "python",
   "name": "python3"
  },
  "language_info": {
   "codemirror_mode": {
    "name": "ipython",
    "version": 3
   },
   "file_extension": ".py",
   "mimetype": "text/x-python",
   "name": "python",
   "nbconvert_exporter": "python",
   "pygments_lexer": "ipython3",
   "version": "3.12.8"
  }
 },
 "nbformat": 4,
 "nbformat_minor": 2
}
